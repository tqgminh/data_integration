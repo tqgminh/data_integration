{
 "cells": [
  {
   "cell_type": "code",
   "execution_count": 2,
   "metadata": {},
   "outputs": [],
   "source": [
    "import requests \n",
    "import json\n",
    "import pandas as pd \n",
    "from tqdm import tqdm"
   ]
  },
  {
   "cell_type": "code",
   "execution_count": 3,
   "metadata": {},
   "outputs": [],
   "source": [
    "headers = {\"user-agent\": \"Mozilla/5.0 (Macintosh; Intel Mac OS X 11_1_0) AppleWebKit/537.36 (KHTML, like Gecko) Chrome/88.0.4324.96 Safari/537.36\"}\n",
    "urlItemSpidId = 'https://tiki.vn/api/personalish/v1/blocks/listings?limit=48&include=advertisement&aggregations=2&trackity_id=26c3f858-66ce-cd5d-5950-836d257727ac&category=1795&page={}&urlKey=dien-thoai-smartphone'\n",
    "urlItemDetail = 'https://tiki.vn/api/v2/products/{}?platform=web&spid={}'"
   ]
  },
  {
   "cell_type": "code",
   "execution_count": 15,
   "metadata": {},
   "outputs": [],
   "source": [
    "def getItemId(data):\n",
    "    id = data['id']\n",
    "    spid = data['seller_product_id']\n",
    "    return {\n",
    "        'id':id,\n",
    "        'spid': spid\n",
    "    }\n",
    "df1 = []"
   ]
  },
  {
   "cell_type": "code",
   "execution_count": null,
   "metadata": {},
   "outputs": [],
   "source": [
    "\n",
    "for x in tqdm(range(0,10,1)):\n",
    "    data = requests.get(urlItemSpidId.format(x), headers=headers).content\n",
    "    data = json.loads(data)['data']\n",
    "    res = list(map(getItemId,data))\n",
    "    # print(res)\n",
    "    df1 += res\n",
    "itemIdSpid = pd.DataFrame(df1)\n",
    "print(itemIdSpid)"
   ]
  },
  {
   "cell_type": "code",
   "execution_count": 19,
   "metadata": {},
   "outputs": [
    {
     "name": "stderr",
     "output_type": "stream",
     "text": [
      "100%|██████████| 446/446 [02:12<00:00,  3.38it/s]\n"
     ]
    },
    {
     "name": "stdout",
     "output_type": "stream",
     "text": [
      "code  brand battery_capacity   bluetooth   brand brand_country camera_sau  \\\n",
      "value  Vivo       \\t5000 mAh  \\tA2DP, LE  Xiaomi    Trung Quốc    \\t13 MP   \n",
      "\n",
      "code  camera_truoc  cart_slot     chip_do_hoa         cpu_speed  ... xem_phim  \\\n",
      "value       \\t5 MP  \\tMicroSD  PowerVR GE8320  \\t8 nhân 2.0 GHz  ...       Có   \n",
      "\n",
      "code  brand display_type item_model_number jack_headphone khe_sim loai_sim  \\\n",
      "value   ZTE       AMOLED          V40 Vita          Không       2     nano   \n",
      "\n",
      "code  port_sac                     resolution screen_size  \n",
      "value   Type C  Full HD+ (1080 x 2160 pixels)    6.7 inch  \n",
      "\n",
      "[1 rows x 7830 columns]\n"
     ]
    }
   ],
   "source": [
    "def getAttributes(data):\n",
    "    attributes = data['attributes']\n",
    "    return {\n",
    "        'attributes':attributes,\n",
    "    }\n",
    "\n",
    "def getDetails(rs):\n",
    "    code = rs['code']\n",
    "    value = rs['value']\n",
    "    return {\n",
    "      'code':code,\n",
    "      'value': value\n",
    "    }\n",
    "df2 = []\n",
    "for x in tqdm(range(itemIdSpid.shape[0])):\n",
    "  a,b = itemIdSpid.values[x]\n",
    "  data = requests.get(urlItemDetail.format(a,b), headers=headers).content\n",
    "  data = json.loads(data)['specifications']\n",
    "  rs = list(map(getAttributes, data))[0]['attributes']\n",
    "  res = list(map(getDetails, rs))\n",
    "  # print(res)\n",
    "  df2 += res\n",
    "attributes = pd.DataFrame(df2).set_index('code').T\n",
    "print(attributes)\n"
   ]
  },
  {
   "cell_type": "code",
   "execution_count": 21,
   "metadata": {},
   "outputs": [
    {
     "name": "stdout",
     "output_type": "stream",
     "text": [
      "                  code                          value\n",
      "0                brand                           Vivo\n",
      "1     battery_capacity                     \\t5000 mAh\n",
      "2            bluetooth                     \\tA2DP, LE\n",
      "3                brand                         Xiaomi\n",
      "4        brand_country                     Trung Quốc\n",
      "...                ...                            ...\n",
      "7825           khe_sim                              2\n",
      "7826          loai_sim                           nano\n",
      "7827          port_sac                         Type C\n",
      "7828        resolution  Full HD+ (1080 x 2160 pixels)\n",
      "7829       screen_size                       6.7 inch\n",
      "\n",
      "[7830 rows x 2 columns]\n"
     ]
    }
   ],
   "source": [
    "attributes2 = pd.DataFrame(df2)\n",
    "print(attributes2)"
   ]
  },
  {
   "cell_type": "code",
   "execution_count": null,
   "metadata": {},
   "outputs": [],
   "source": [
    "# attributesList = pd.DataFrame(res).set_index('code').T\n",
    "# print(attributesList)"
   ]
  },
  {
   "cell_type": "code",
   "execution_count": null,
   "metadata": {},
   "outputs": [],
   "source": [
    "# attributesList.to_json()"
   ]
  },
  {
   "cell_type": "code",
   "execution_count": 22,
   "metadata": {},
   "outputs": [],
   "source": [
    "attributes2.to_csv('itemDetail.csv', index=False)"
   ]
  }
 ],
 "metadata": {
  "kernelspec": {
   "display_name": "Python 3.10.0 64-bit",
   "language": "python",
   "name": "python3"
  },
  "language_info": {
   "codemirror_mode": {
    "name": "ipython",
    "version": 3
   },
   "file_extension": ".py",
   "mimetype": "text/x-python",
   "name": "python",
   "nbconvert_exporter": "python",
   "pygments_lexer": "ipython3",
   "version": "3.10.0"
  },
  "orig_nbformat": 4,
  "vscode": {
   "interpreter": {
    "hash": "a42ccb73e7d9bfdf27e036f1d2b8b681e55fc0743cc5586bc2474d4a60f4b886"
   }
  }
 },
 "nbformat": 4,
 "nbformat_minor": 2
}
