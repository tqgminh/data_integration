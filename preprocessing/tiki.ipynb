{
 "cells": [
  {
   "cell_type": "code",
   "execution_count": 1,
   "metadata": {},
   "outputs": [],
   "source": [
    "import pandas as pd\n",
    "from pyvi import ViUtils\n",
    "import numpy as np"
   ]
  },
  {
   "cell_type": "code",
   "execution_count": 2,
   "metadata": {},
   "outputs": [
    {
     "name": "stdout",
     "output_type": "stream",
     "text": [
      "Tên sản phẩm\n",
      "Gi á\n",
      "Bluetooth\n",
      "Thương hiệu\n",
      "Xuất xứ\n",
      "Thẻ nhớ ngoài\n",
      "Chipset\n",
      "tốc độ CPU\n",
      "Kích thước \n",
      "Công nghệ màn hình\n",
      "Jack tai nghe\n",
      "Loại pin\n",
      "Loại sim\n",
      "Trọng lượng \n",
      "RAM\n",
      "Độ phân giải\n",
      "ROM\n",
      "Kích thước màn hình\n"
     ]
    }
   ],
   "source": [
    "tiki_df = pd.read_csv('../data/tiki.csv')\n",
    "for column in tiki_df.columns:\n",
    "    print(column)"
   ]
  },
  {
   "cell_type": "code",
   "execution_count": 3,
   "metadata": {},
   "outputs": [
    {
     "data": {
      "text/html": [
       "<div>\n",
       "<style scoped>\n",
       "    .dataframe tbody tr th:only-of-type {\n",
       "        vertical-align: middle;\n",
       "    }\n",
       "\n",
       "    .dataframe tbody tr th {\n",
       "        vertical-align: top;\n",
       "    }\n",
       "\n",
       "    .dataframe thead th {\n",
       "        text-align: right;\n",
       "    }\n",
       "</style>\n",
       "<table border=\"1\" class=\"dataframe\">\n",
       "  <thead>\n",
       "    <tr style=\"text-align: right;\">\n",
       "      <th></th>\n",
       "      <th>Tên sản phẩm</th>\n",
       "      <th>Gi á</th>\n",
       "      <th>Chipset</th>\n",
       "      <th>Công nghệ màn hình</th>\n",
       "      <th>Loại pin</th>\n",
       "      <th>Loại sim</th>\n",
       "      <th>RAM</th>\n",
       "      <th>ROM</th>\n",
       "      <th>Kích thước màn hình</th>\n",
       "    </tr>\n",
       "  </thead>\n",
       "  <tbody>\n",
       "    <tr>\n",
       "      <th>0</th>\n",
       "      <td>Điện Thoại Oppo A76 (6GB/128G) - Hàng Chính Hãng</td>\n",
       "      <td>5.490.000 ₫</td>\n",
       "      <td>Snapdragon 680 8 nhân</td>\n",
       "      <td>IPS LCD</td>\n",
       "      <td>NaN</td>\n",
       "      <td>2 nano sim</td>\n",
       "      <td>6 GB</td>\n",
       "      <td>128 GB</td>\n",
       "      <td>6.56 inch</td>\n",
       "    </tr>\n",
       "    <tr>\n",
       "      <th>1</th>\n",
       "      <td>Điện thoại Smartphone Sugar A100 2GB/16GB 4G L...</td>\n",
       "      <td>1.159.000 ₫</td>\n",
       "      <td>Mediatek MT6739 4 nhân 4x1.5GHz</td>\n",
       "      <td>NaN</td>\n",
       "      <td>NaN</td>\n",
       "      <td>NaN</td>\n",
       "      <td>NaN</td>\n",
       "      <td>NaN</td>\n",
       "      <td>NaN</td>\n",
       "    </tr>\n",
       "    <tr>\n",
       "      <th>2</th>\n",
       "      <td>Điện thoại Samsung Galaxy A32 (6GB/128GB) - Hà...</td>\n",
       "      <td>5.030.000 ₫</td>\n",
       "      <td>MediaTek Helio G80</td>\n",
       "      <td>Super AMOLED</td>\n",
       "      <td>Li-Ion</td>\n",
       "      <td>Nano SIM</td>\n",
       "      <td>NaN</td>\n",
       "      <td>NaN</td>\n",
       "      <td>6.4 inch</td>\n",
       "    </tr>\n",
       "    <tr>\n",
       "      <th>3</th>\n",
       "      <td>Điện thoại Xiaomi 11T Pro (12GB/256GB) - Hàng ...</td>\n",
       "      <td>13.590.000 ₫</td>\n",
       "      <td>Snapdragon 888 8 nhân</td>\n",
       "      <td>AMOLED</td>\n",
       "      <td>Li-Po</td>\n",
       "      <td>Nano SIM</td>\n",
       "      <td>12GB</td>\n",
       "      <td>256GB</td>\n",
       "      <td>6.67 inch</td>\n",
       "    </tr>\n",
       "    <tr>\n",
       "      <th>4</th>\n",
       "      <td>Điện Thoại Xiaomi Redmi 9C 4GB/128GB - Hàng Ch...</td>\n",
       "      <td>3.059.000 ₫</td>\n",
       "      <td>MediaTek Helio G35 8 nhân</td>\n",
       "      <td>IPS LCD</td>\n",
       "      <td>Li-Ion</td>\n",
       "      <td>Nano</td>\n",
       "      <td>4GB</td>\n",
       "      <td>128GB</td>\n",
       "      <td>6.53 inch</td>\n",
       "    </tr>\n",
       "  </tbody>\n",
       "</table>\n",
       "</div>"
      ],
      "text/plain": [
       "                                        Tên sản phẩm          Gi á  \\\n",
       "0   Điện Thoại Oppo A76 (6GB/128G) - Hàng Chính Hãng   5.490.000 ₫   \n",
       "1  Điện thoại Smartphone Sugar A100 2GB/16GB 4G L...   1.159.000 ₫   \n",
       "2  Điện thoại Samsung Galaxy A32 (6GB/128GB) - Hà...   5.030.000 ₫   \n",
       "3  Điện thoại Xiaomi 11T Pro (12GB/256GB) - Hàng ...  13.590.000 ₫   \n",
       "4  Điện Thoại Xiaomi Redmi 9C 4GB/128GB - Hàng Ch...   3.059.000 ₫   \n",
       "\n",
       "                           Chipset Công nghệ màn hình Loại pin    Loại sim  \\\n",
       "0            Snapdragon 680 8 nhân            IPS LCD      NaN  2 nano sim   \n",
       "1  Mediatek MT6739 4 nhân 4x1.5GHz                NaN      NaN         NaN   \n",
       "2               MediaTek Helio G80       Super AMOLED   Li-Ion    Nano SIM   \n",
       "3            Snapdragon 888 8 nhân             AMOLED    Li-Po    Nano SIM   \n",
       "4        MediaTek Helio G35 8 nhân            IPS LCD   Li-Ion        Nano   \n",
       "\n",
       "    RAM     ROM Kích thước màn hình  \n",
       "0  6 GB  128 GB           6.56 inch  \n",
       "1   NaN     NaN                 NaN  \n",
       "2   NaN     NaN            6.4 inch  \n",
       "3  12GB   256GB           6.67 inch  \n",
       "4   4GB   128GB           6.53 inch  "
      ]
     },
     "execution_count": 3,
     "metadata": {},
     "output_type": "execute_result"
    }
   ],
   "source": [
    "drop_columns = ['Thương hiệu', 'Xuất xứ', 'Thẻ nhớ ngoài', 'tốc độ CPU', 'Kích thước ', 'Jack tai nghe', 'Trọng lượng ', 'Độ phân giải', 'Bluetooth']\n",
    "\n",
    "for column in drop_columns:\n",
    "    del tiki_df[column]\n",
    "\n",
    "tiki_df.head()"
   ]
  },
  {
   "cell_type": "markdown",
   "metadata": {},
   "source": [
    "# Xử lý tên cột"
   ]
  },
  {
   "cell_type": "code",
   "execution_count": 4,
   "metadata": {},
   "outputs": [],
   "source": [
    "tiki_df = tiki_df.rename(columns={\"Tên sản phẩm\": \"ten\", \"Gi á\": \"gia\", \"Chipset\": \"cpu\", \"Loại pin\": \"pin\", \"Loại sim\": \"sim\", \"ROM\": \"bộ nhớ trong\"})\n",
    "\n",
    "for column in tiki_df.columns:\n",
    "    tiki_df = tiki_df.rename(columns={column: ViUtils.remove_accents(column).decode(\"utf-8\").lower().strip().replace(' ', '_')})"
   ]
  },
  {
   "cell_type": "markdown",
   "metadata": {},
   "source": [
    "# Xử lý trường tên"
   ]
  },
  {
   "cell_type": "code",
   "execution_count": 5,
   "metadata": {},
   "outputs": [],
   "source": [
    "tiki_df = tiki_df[tiki_df['ten'].notna()]\n",
    "tiki_df['ten'] = tiki_df['ten'].apply(lambda s: str(s).split('-')[0].replace('Điện thoại', '').replace('Điện Thoại', '').strip())\n",
    "tiki_df['ten'] = tiki_df['ten'].apply(lambda s: ViUtils.remove_accents(s).decode(\"utf-8\"))"
   ]
  },
  {
   "cell_type": "markdown",
   "metadata": {},
   "source": [
    "# Xử lý trường giá"
   ]
  },
  {
   "cell_type": "code",
   "execution_count": 6,
   "metadata": {},
   "outputs": [],
   "source": [
    "tiki_df = tiki_df[tiki_df['gia'].notna()]\n",
    "tiki_df['gia'] = tiki_df['gia'].apply(lambda s: str(s).replace('₫', '').replace('.', '').replace('*', '').strip())\n",
    "tiki_df['gia'] = tiki_df['gia'].apply(lambda s: int(s))"
   ]
  },
  {
   "cell_type": "markdown",
   "metadata": {},
   "source": [
    "# Xử lý trường kích thước màn hình"
   ]
  },
  {
   "cell_type": "code",
   "execution_count": 7,
   "metadata": {},
   "outputs": [],
   "source": [
    "tiki_df = tiki_df[tiki_df['kich_thuoc_man_hinh'].notna()]\n",
    "def process_screen_size(s):\n",
    "    size = s.split(' - ')[0]\n",
    "    try:\n",
    "        if \"&\" in s:\n",
    "            size = size.split(' & ')\n",
    "            size1 = float(size[0].split()[1])\n",
    "            size2 = float(size[1].split()[1])\n",
    "            size = size1 + size2\n",
    "        else:\n",
    "            size = float(size.split()[0])\n",
    "    except:\n",
    "        size = 0\n",
    "    return size\n",
    "\n",
    "tiki_df['kich_thuoc_man_hinh'] = tiki_df['kich_thuoc_man_hinh'].apply(process_screen_size)"
   ]
  },
  {
   "cell_type": "markdown",
   "metadata": {},
   "source": [
    "# Xử lý trường bộ nhớ trong"
   ]
  },
  {
   "cell_type": "code",
   "execution_count": 8,
   "metadata": {},
   "outputs": [],
   "source": [
    "def get_rom(s):\n",
    "    index = s.find('/')\n",
    "    if index == -1:\n",
    "        return \"not found\"\n",
    "    inf =  s[index:]\n",
    "    ind = inf.find('GB')\n",
    "    inf = inf[1:ind+2]\n",
    "    return inf\n",
    "\n",
    "tiki_df = tiki_df.reset_index()  # make sure indexes pair with number of rows\n",
    "\n",
    "for index, row in tiki_df.iterrows():\n",
    "    if type(row['bo_nho_trong']) != str:\n",
    "        tiki_df.loc[index, 'bo_nho_trong'] = get_rom(row['ten'])"
   ]
  },
  {
   "cell_type": "code",
   "execution_count": 9,
   "metadata": {},
   "outputs": [],
   "source": [
    "def process_rom(s):\n",
    "    try:\n",
    "        return float(s[:-2].strip())\n",
    "    except:\n",
    "        return 0\n",
    "\n",
    "tiki_df['bo_nho_trong'] = tiki_df['bo_nho_trong'].apply(process_rom)"
   ]
  },
  {
   "cell_type": "markdown",
   "metadata": {},
   "source": [
    "# Xử lý trường RAM"
   ]
  },
  {
   "cell_type": "code",
   "execution_count": 10,
   "metadata": {},
   "outputs": [],
   "source": [
    "def get_ram(s):\n",
    "    index = s.find('/')\n",
    "    if index == -1:\n",
    "        return \"not found\"\n",
    "    inf = s[:index]\n",
    "    inf = inf[index-3:index]\n",
    "    return inf\n",
    "\n",
    "tiki_df = tiki_df.reset_index()  # make sure indexes pair with number of rows\n",
    "\n",
    "for index, row in tiki_df.iterrows():\n",
    "    if type(row['ram']) != str:\n",
    "        tiki_df.loc[index, 'ram'] = get_ram(row['ten'])"
   ]
  },
  {
   "cell_type": "code",
   "execution_count": 11,
   "metadata": {},
   "outputs": [],
   "source": [
    "def process_ram(s):\n",
    "    try:\n",
    "        return int(s[:-2])\n",
    "    except:\n",
    "        return 0\n",
    "\n",
    "tiki_df['ram'] = tiki_df['ram'].apply(process_ram)"
   ]
  },
  {
   "cell_type": "code",
   "execution_count": 12,
   "metadata": {},
   "outputs": [],
   "source": [
    "del tiki_df['level_0']\n",
    "del tiki_df['index']"
   ]
  },
  {
   "cell_type": "code",
   "execution_count": 13,
   "metadata": {},
   "outputs": [
    {
     "name": "stdout",
     "output_type": "stream",
     "text": [
      "ten\n",
      "gia\n",
      "cpu\n",
      "cong_nghe_man_hinh\n",
      "pin\n",
      "sim\n",
      "ram\n",
      "bo_nho_trong\n",
      "kich_thuoc_man_hinh\n"
     ]
    }
   ],
   "source": [
    "for column in tiki_df.columns:\n",
    "    print(column)"
   ]
  },
  {
   "cell_type": "code",
   "execution_count": 14,
   "metadata": {},
   "outputs": [],
   "source": [
    "tiki_df.to_csv('../clean_data/tiki.csv', index=False)"
   ]
  }
 ],
 "metadata": {
  "kernelspec": {
   "display_name": "Python 3.9.10 64-bit",
   "language": "python",
   "name": "python3"
  },
  "language_info": {
   "codemirror_mode": {
    "name": "ipython",
    "version": 3
   },
   "file_extension": ".py",
   "mimetype": "text/x-python",
   "name": "python",
   "nbconvert_exporter": "python",
   "pygments_lexer": "ipython3",
   "version": "3.9.10"
  },
  "orig_nbformat": 4,
  "vscode": {
   "interpreter": {
    "hash": "46cbce0cc1b91bd412f5f59393cf4a56ecc421974209d990c21917623ca76b21"
   }
  }
 },
 "nbformat": 4,
 "nbformat_minor": 2
}
