{
 "cells": [
  {
   "cell_type": "code",
   "execution_count": 1,
   "metadata": {},
   "outputs": [],
   "source": [
    "import pandas as pd\n",
    "from pyvi import ViUtils"
   ]
  },
  {
   "cell_type": "code",
   "execution_count": 2,
   "metadata": {},
   "outputs": [
    {
     "name": "stdout",
     "output_type": "stream",
     "text": [
      "TÊN SẢN PHẨM \n",
      "GIÁ MỚI \n",
      "GIÁ CŨ \n",
      "CÔNG NGHỆ MÀN HÌNH\n",
      "ĐỘ PHÂN GIẢI\n",
      "MÀN HÌNH RỘNG\n",
      "ĐỘ SÁNG TỐI ĐA\n",
      "MẶT KÍNH CẢM ỨNG\n",
      "CAMERA SAU\n",
      "CAMERA TRƯỚC\n",
      "HỆ ĐIỀU HÀNH\n",
      "CPU\n",
      "TỐC ĐỘ CPU\n",
      "GPU \n",
      "RAM\n",
      "BỘ NHỚ TRONG \n",
      "THẺ NHỚ\n",
      "SIM\n",
      "BLUETOOTH\n",
      "CỔNG KẾT NỐI \n",
      "DUNG LƯỢNG PIN \n",
      "KÍCH THƯỚC - KHỐI LƯỢNG\n",
      "THỜI ĐIỂM RA MẮT\n"
     ]
    }
   ],
   "source": [
    "tgdd_df = pd.read_csv('../data/tgdd.csv')\n",
    "for column in tgdd_df:\n",
    "    print(column)"
   ]
  },
  {
   "cell_type": "code",
   "execution_count": 3,
   "metadata": {},
   "outputs": [
    {
     "data": {
      "text/html": [
       "<div>\n",
       "<style scoped>\n",
       "    .dataframe tbody tr th:only-of-type {\n",
       "        vertical-align: middle;\n",
       "    }\n",
       "\n",
       "    .dataframe tbody tr th {\n",
       "        vertical-align: top;\n",
       "    }\n",
       "\n",
       "    .dataframe thead th {\n",
       "        text-align: right;\n",
       "    }\n",
       "</style>\n",
       "<table border=\"1\" class=\"dataframe\">\n",
       "  <thead>\n",
       "    <tr style=\"text-align: right;\">\n",
       "      <th></th>\n",
       "      <th>TÊN SẢN PHẨM</th>\n",
       "      <th>GIÁ MỚI</th>\n",
       "      <th>CÔNG NGHỆ MÀN HÌNH</th>\n",
       "      <th>MÀN HÌNH RỘNG</th>\n",
       "      <th>CPU</th>\n",
       "      <th>RAM</th>\n",
       "      <th>BỘ NHỚ TRONG</th>\n",
       "      <th>SIM</th>\n",
       "      <th>DUNG LƯỢNG PIN</th>\n",
       "    </tr>\n",
       "  </thead>\n",
       "  <tbody>\n",
       "    <tr>\n",
       "      <th>0</th>\n",
       "      <td>Điện thoại Samsung Galaxy Z Fold3 5G 256GB</td>\n",
       "      <td>35.990.000₫</td>\n",
       "      <td>Dynamic AMOLED 2X</td>\n",
       "      <td>Chính 7.6\" &amp; Phụ 6.2\" - Tần số quét 120 Hz</td>\n",
       "      <td>Snapdragon 888 8 nhân</td>\n",
       "      <td>12 GB</td>\n",
       "      <td>256 GB</td>\n",
       "      <td>2 Nano SIM + 1 eSIM</td>\n",
       "      <td>4400 mAh</td>\n",
       "    </tr>\n",
       "    <tr>\n",
       "      <th>1</th>\n",
       "      <td>Điện thoại iPhone 12 Pro Max 512GB</td>\n",
       "      <td>NaN</td>\n",
       "      <td>OLED</td>\n",
       "      <td>6.7\" - Tần số quét 60 Hz</td>\n",
       "      <td>Apple A14 Bionic 6 nhân</td>\n",
       "      <td>6 GB</td>\n",
       "      <td>512 GB</td>\n",
       "      <td>1 Nano SIM &amp; 1 eSIM</td>\n",
       "      <td>3687 mAh</td>\n",
       "    </tr>\n",
       "    <tr>\n",
       "      <th>2</th>\n",
       "      <td>Điện thoại Samsung Galaxy S22 Ultra 5G 128GB</td>\n",
       "      <td>30.990.000₫</td>\n",
       "      <td>Dynamic AMOLED 2X</td>\n",
       "      <td>6.8\" - Tần số quét 120 Hz</td>\n",
       "      <td>Snapdragon 8 Gen 1 8 nhân</td>\n",
       "      <td>8 GB</td>\n",
       "      <td>128 GB</td>\n",
       "      <td>2 Nano SIM hoặc 1 Nano SIM + 1 eSIM</td>\n",
       "      <td>5000 mAh</td>\n",
       "    </tr>\n",
       "    <tr>\n",
       "      <th>3</th>\n",
       "      <td>Điện thoại OPPO Find X5 Pro 5G</td>\n",
       "      <td>NaN</td>\n",
       "      <td>AMOLED</td>\n",
       "      <td>6.7\" - Tần số quét 120 Hz</td>\n",
       "      <td>Snapdragon 8 Gen 1 8 nhân</td>\n",
       "      <td>12 GB</td>\n",
       "      <td>256 GB</td>\n",
       "      <td>2 Nano SIM hoặc 1 Nano SIM + 1 eSIM</td>\n",
       "      <td>5000 mAh</td>\n",
       "    </tr>\n",
       "    <tr>\n",
       "      <th>4</th>\n",
       "      <td>Điện thoại iPhone 13 Pro Max 128GB</td>\n",
       "      <td>NaN</td>\n",
       "      <td>OLED</td>\n",
       "      <td>6.7\" - Tần số quét 120 Hz</td>\n",
       "      <td>Apple A15 Bionic 6 nhân</td>\n",
       "      <td>6 GB</td>\n",
       "      <td>128 GB</td>\n",
       "      <td>1 Nano SIM &amp; 1 eSIM</td>\n",
       "      <td>4352 mAh</td>\n",
       "    </tr>\n",
       "  </tbody>\n",
       "</table>\n",
       "</div>"
      ],
      "text/plain": [
       "                                  TÊN SẢN PHẨM      GIÁ MỚI   \\\n",
       "0    Điện thoại Samsung Galaxy Z Fold3 5G 256GB  35.990.000₫   \n",
       "1            Điện thoại iPhone 12 Pro Max 512GB          NaN   \n",
       "2  Điện thoại Samsung Galaxy S22 Ultra 5G 128GB  30.990.000₫   \n",
       "3                Điện thoại OPPO Find X5 Pro 5G          NaN   \n",
       "4            Điện thoại iPhone 13 Pro Max 128GB          NaN   \n",
       "\n",
       "  CÔNG NGHỆ MÀN HÌNH                               MÀN HÌNH RỘNG  \\\n",
       "0  Dynamic AMOLED 2X  Chính 7.6\" & Phụ 6.2\" - Tần số quét 120 Hz   \n",
       "1               OLED                    6.7\" - Tần số quét 60 Hz   \n",
       "2  Dynamic AMOLED 2X                   6.8\" - Tần số quét 120 Hz   \n",
       "3             AMOLED                   6.7\" - Tần số quét 120 Hz   \n",
       "4               OLED                   6.7\" - Tần số quét 120 Hz   \n",
       "\n",
       "                         CPU    RAM BỘ NHỚ TRONG   \\\n",
       "0      Snapdragon 888 8 nhân  12 GB        256 GB   \n",
       "1    Apple A14 Bionic 6 nhân   6 GB        512 GB   \n",
       "2  Snapdragon 8 Gen 1 8 nhân   8 GB        128 GB   \n",
       "3  Snapdragon 8 Gen 1 8 nhân  12 GB        256 GB   \n",
       "4    Apple A15 Bionic 6 nhân   6 GB        128 GB   \n",
       "\n",
       "                                   SIM DUNG LƯỢNG PIN   \n",
       "0                  2 Nano SIM + 1 eSIM        4400 mAh  \n",
       "1                  1 Nano SIM & 1 eSIM        3687 mAh  \n",
       "2  2 Nano SIM hoặc 1 Nano SIM + 1 eSIM        5000 mAh  \n",
       "3  2 Nano SIM hoặc 1 Nano SIM + 1 eSIM        5000 mAh  \n",
       "4                  1 Nano SIM & 1 eSIM        4352 mAh  "
      ]
     },
     "execution_count": 3,
     "metadata": {},
     "output_type": "execute_result"
    }
   ],
   "source": [
    "drop_columns = ['GIÁ CŨ ', 'ĐỘ PHÂN GIẢI', 'ĐỘ SÁNG TỐI ĐA', 'MẶT KÍNH CẢM ỨNG', 'TỐC ĐỘ CPU', 'GPU ', 'THẺ NHỚ', 'CỔNG KẾT NỐI ', 'THỜI ĐIỂM RA MẮT', 'KÍCH THƯỚC - KHỐI LƯỢNG', 'CAMERA SAU', 'CAMERA TRƯỚC', 'HỆ ĐIỀU HÀNH', 'BLUETOOTH']\n",
    "\n",
    "for column in drop_columns:\n",
    "    del tgdd_df[column]\n",
    "\n",
    "tgdd_df.head()"
   ]
  },
  {
   "cell_type": "markdown",
   "metadata": {},
   "source": [
    "# Xử lý tên cột"
   ]
  },
  {
   "cell_type": "code",
   "execution_count": 4,
   "metadata": {},
   "outputs": [],
   "source": [
    "for column in tgdd_df.columns:\n",
    "    tgdd_df = tgdd_df.rename(columns={column: ViUtils.remove_accents(column).decode(\"utf-8\").lower().strip().replace(' ', '_')})"
   ]
  },
  {
   "cell_type": "markdown",
   "metadata": {},
   "source": [
    "# Xử lý trường tên"
   ]
  },
  {
   "cell_type": "code",
   "execution_count": 5,
   "metadata": {},
   "outputs": [],
   "source": [
    "tgdd_df['ten_san_pham'] = tgdd_df['ten_san_pham'].apply(lambda s: s.replace('Điện thoại ', '').strip())\n",
    "tgdd_df = tgdd_df.rename(columns={'ten_san_pham': 'ten'})"
   ]
  },
  {
   "cell_type": "code",
   "execution_count": 6,
   "metadata": {},
   "outputs": [],
   "source": [
    "tgdd_df = tgdd_df[tgdd_df['gia_moi'].notna()]\n",
    "tgdd_df['gia_moi'] = tgdd_df['gia_moi'].apply(lambda s: str(s).replace('₫', '').replace('.', '').replace('*', '').strip())\n",
    "tgdd_df['gia_moi'] = tgdd_df['gia_moi'].apply(lambda s: int(s))"
   ]
  },
  {
   "cell_type": "code",
   "execution_count": 7,
   "metadata": {},
   "outputs": [],
   "source": [
    "def process_screen_size(s):\n",
    "    size = s.split(' - ')[0]\n",
    "    if \"&\" in s:\n",
    "        size = size.split(' ')\n",
    "        size = float(size[1][:-1]) + float(size[4][:-1])\n",
    "    else:\n",
    "        size = float(size[:-1])\n",
    "    return size\n",
    "tgdd_df['kich_thuoc_man_hinh'] = tgdd_df['man_hinh_rong'].apply(process_screen_size)\n",
    "\n",
    "# def process_screen_frequency(s):\n",
    "#     try:\n",
    "#         frequency = s.split(' - ')[1]\n",
    "#         frequency = int(frequency.split(' ')[3])\n",
    "#     except:\n",
    "#         frequency = 0\n",
    "#     return frequency\n",
    "\n",
    "# tgdd_df['tan_so'] = tgdd_df['man_hinh_rong'].apply(process_screen_frequency)\n",
    "tgdd_df = tgdd_df.drop(['man_hinh_rong'], axis=1)"
   ]
  },
  {
   "cell_type": "code",
   "execution_count": 8,
   "metadata": {},
   "outputs": [],
   "source": [
    "def process_ram(s):\n",
    "    try:\n",
    "        return int(s[:-3])\n",
    "    except:\n",
    "        return 0\n",
    "\n",
    "tgdd_df['ram'] = tgdd_df['ram'].apply(process_ram)"
   ]
  },
  {
   "cell_type": "code",
   "execution_count": 9,
   "metadata": {},
   "outputs": [],
   "source": [
    "def process_rom(s):\n",
    "    try:\n",
    "        return float(s[:-3])\n",
    "    except:\n",
    "        return 0\n",
    "\n",
    "tgdd_df['bo_nho_trong'] = tgdd_df['bo_nho_trong'].apply(process_rom)"
   ]
  },
  {
   "cell_type": "code",
   "execution_count": 10,
   "metadata": {},
   "outputs": [],
   "source": [
    "tgdd_df = tgdd_df.rename(columns={'dung_luong_pin': 'pin'})"
   ]
  },
  {
   "cell_type": "code",
   "execution_count": 11,
   "metadata": {},
   "outputs": [
    {
     "data": {
      "text/html": [
       "<div>\n",
       "<style scoped>\n",
       "    .dataframe tbody tr th:only-of-type {\n",
       "        vertical-align: middle;\n",
       "    }\n",
       "\n",
       "    .dataframe tbody tr th {\n",
       "        vertical-align: top;\n",
       "    }\n",
       "\n",
       "    .dataframe thead th {\n",
       "        text-align: right;\n",
       "    }\n",
       "</style>\n",
       "<table border=\"1\" class=\"dataframe\">\n",
       "  <thead>\n",
       "    <tr style=\"text-align: right;\">\n",
       "      <th></th>\n",
       "      <th>ten</th>\n",
       "      <th>gia_moi</th>\n",
       "      <th>cong_nghe_man_hinh</th>\n",
       "      <th>cpu</th>\n",
       "      <th>ram</th>\n",
       "      <th>bo_nho_trong</th>\n",
       "      <th>sim</th>\n",
       "      <th>pin</th>\n",
       "      <th>kich_thuoc_man_hinh</th>\n",
       "    </tr>\n",
       "  </thead>\n",
       "  <tbody>\n",
       "    <tr>\n",
       "      <th>0</th>\n",
       "      <td>Samsung Galaxy Z Fold3 5G 256GB</td>\n",
       "      <td>35990000</td>\n",
       "      <td>Dynamic AMOLED 2X</td>\n",
       "      <td>Snapdragon 888 8 nhân</td>\n",
       "      <td>12</td>\n",
       "      <td>256.0</td>\n",
       "      <td>2 Nano SIM + 1 eSIM</td>\n",
       "      <td>4400 mAh</td>\n",
       "      <td>13.8</td>\n",
       "    </tr>\n",
       "    <tr>\n",
       "      <th>2</th>\n",
       "      <td>Samsung Galaxy S22 Ultra 5G 128GB</td>\n",
       "      <td>30990000</td>\n",
       "      <td>Dynamic AMOLED 2X</td>\n",
       "      <td>Snapdragon 8 Gen 1 8 nhân</td>\n",
       "      <td>8</td>\n",
       "      <td>128.0</td>\n",
       "      <td>2 Nano SIM hoặc 1 Nano SIM + 1 eSIM</td>\n",
       "      <td>5000 mAh</td>\n",
       "      <td>6.8</td>\n",
       "    </tr>\n",
       "    <tr>\n",
       "      <th>6</th>\n",
       "      <td>iPhone 12 Pro 256GB</td>\n",
       "      <td>26290000</td>\n",
       "      <td>OLED</td>\n",
       "      <td>Apple A14 Bionic 6 nhân</td>\n",
       "      <td>6</td>\n",
       "      <td>256.0</td>\n",
       "      <td>1 Nano SIM &amp; 1 eSIM</td>\n",
       "      <td>2815 mAh</td>\n",
       "      <td>6.1</td>\n",
       "    </tr>\n",
       "    <tr>\n",
       "      <th>7</th>\n",
       "      <td>Samsung Galaxy S22+ 5G 128GB</td>\n",
       "      <td>25990000</td>\n",
       "      <td>Dynamic AMOLED 2X</td>\n",
       "      <td>Snapdragon 8 Gen 1 8 nhân</td>\n",
       "      <td>8</td>\n",
       "      <td>128.0</td>\n",
       "      <td>2 Nano SIM hoặc 1 Nano SIM + 1 eSIM</td>\n",
       "      <td>4500 mAh</td>\n",
       "      <td>6.6</td>\n",
       "    </tr>\n",
       "    <tr>\n",
       "      <th>9</th>\n",
       "      <td>Samsung Galaxy S22 5G 128GB</td>\n",
       "      <td>21990000</td>\n",
       "      <td>Dynamic AMOLED 2X</td>\n",
       "      <td>Snapdragon 8 Gen 1 8 nhân</td>\n",
       "      <td>8</td>\n",
       "      <td>128.0</td>\n",
       "      <td>2 Nano SIM hoặc 1 Nano SIM + 1 eSIM</td>\n",
       "      <td>3700 mAh</td>\n",
       "      <td>6.1</td>\n",
       "    </tr>\n",
       "  </tbody>\n",
       "</table>\n",
       "</div>"
      ],
      "text/plain": [
       "                                 ten   gia_moi cong_nghe_man_hinh  \\\n",
       "0    Samsung Galaxy Z Fold3 5G 256GB  35990000  Dynamic AMOLED 2X   \n",
       "2  Samsung Galaxy S22 Ultra 5G 128GB  30990000  Dynamic AMOLED 2X   \n",
       "6                iPhone 12 Pro 256GB  26290000               OLED   \n",
       "7       Samsung Galaxy S22+ 5G 128GB  25990000  Dynamic AMOLED 2X   \n",
       "9        Samsung Galaxy S22 5G 128GB  21990000  Dynamic AMOLED 2X   \n",
       "\n",
       "                         cpu  ram  bo_nho_trong  \\\n",
       "0      Snapdragon 888 8 nhân   12         256.0   \n",
       "2  Snapdragon 8 Gen 1 8 nhân    8         128.0   \n",
       "6    Apple A14 Bionic 6 nhân    6         256.0   \n",
       "7  Snapdragon 8 Gen 1 8 nhân    8         128.0   \n",
       "9  Snapdragon 8 Gen 1 8 nhân    8         128.0   \n",
       "\n",
       "                                   sim       pin  kich_thuoc_man_hinh  \n",
       "0                  2 Nano SIM + 1 eSIM  4400 mAh                 13.8  \n",
       "2  2 Nano SIM hoặc 1 Nano SIM + 1 eSIM  5000 mAh                  6.8  \n",
       "6                  1 Nano SIM & 1 eSIM  2815 mAh                  6.1  \n",
       "7  2 Nano SIM hoặc 1 Nano SIM + 1 eSIM  4500 mAh                  6.6  \n",
       "9  2 Nano SIM hoặc 1 Nano SIM + 1 eSIM  3700 mAh                  6.1  "
      ]
     },
     "execution_count": 11,
     "metadata": {},
     "output_type": "execute_result"
    }
   ],
   "source": [
    "tgdd_df.head()"
   ]
  },
  {
   "cell_type": "code",
   "execution_count": 12,
   "metadata": {},
   "outputs": [],
   "source": [
    "tgdd_df.to_csv('../clean_data/tgdd.csv', index=False)"
   ]
  }
 ],
 "metadata": {
  "kernelspec": {
   "display_name": "Python 3.9.10 64-bit",
   "language": "python",
   "name": "python3"
  },
  "language_info": {
   "codemirror_mode": {
    "name": "ipython",
    "version": 3
   },
   "file_extension": ".py",
   "mimetype": "text/x-python",
   "name": "python",
   "nbconvert_exporter": "python",
   "pygments_lexer": "ipython3",
   "version": "3.9.10"
  },
  "orig_nbformat": 4,
  "vscode": {
   "interpreter": {
    "hash": "46cbce0cc1b91bd412f5f59393cf4a56ecc421974209d990c21917623ca76b21"
   }
  }
 },
 "nbformat": 4,
 "nbformat_minor": 2
}
