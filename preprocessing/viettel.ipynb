{
 "cells": [
  {
   "cell_type": "code",
   "execution_count": 1,
   "metadata": {},
   "outputs": [],
   "source": [
    "import pandas as pd\n",
    "from pyvi import ViUtils"
   ]
  },
  {
   "cell_type": "code",
   "execution_count": 2,
   "metadata": {},
   "outputs": [
    {
     "name": "stdout",
     "output_type": "stream",
     "text": [
      "Tên sản phẩm\n",
      "Gía\n",
      "Màn hình\n",
      "Camera sau\n",
      "Camera trước\n",
      "Chip\n",
      "RAM\n",
      "Bộ nhớ trong\n",
      "Pin\n",
      "SIM\n",
      "Kích thước màn hình\n",
      "Công nghệ màn hình\n"
     ]
    }
   ],
   "source": [
    "vt_df = pd.read_csv('../data/viettel.csv')\n",
    "for column in vt_df.columns:\n",
    "    print(column)"
   ]
  },
  {
   "cell_type": "code",
   "execution_count": 3,
   "metadata": {},
   "outputs": [
    {
     "data": {
      "text/html": [
       "<div>\n",
       "<style scoped>\n",
       "    .dataframe tbody tr th:only-of-type {\n",
       "        vertical-align: middle;\n",
       "    }\n",
       "\n",
       "    .dataframe tbody tr th {\n",
       "        vertical-align: top;\n",
       "    }\n",
       "\n",
       "    .dataframe thead th {\n",
       "        text-align: right;\n",
       "    }\n",
       "</style>\n",
       "<table border=\"1\" class=\"dataframe\">\n",
       "  <thead>\n",
       "    <tr style=\"text-align: right;\">\n",
       "      <th></th>\n",
       "      <th>Tên sản phẩm</th>\n",
       "      <th>Gía</th>\n",
       "      <th>Chip</th>\n",
       "      <th>RAM</th>\n",
       "      <th>Bộ nhớ trong</th>\n",
       "      <th>Pin</th>\n",
       "      <th>SIM</th>\n",
       "      <th>Kích thước màn hình</th>\n",
       "      <th>Công nghệ màn hình</th>\n",
       "    </tr>\n",
       "  </thead>\n",
       "  <tbody>\n",
       "    <tr>\n",
       "      <th>0</th>\n",
       "      <td>Samsung Galaxy S22 Ultra 12/256GB</td>\n",
       "      <td>31.990.000 ₫</td>\n",
       "      <td>Chip Snapdragon® 8 Gen 1 (4nm)</td>\n",
       "      <td>12GB</td>\n",
       "      <td>256GB</td>\n",
       "      <td>Pin 5000 mAh | Sạc siêu nhanh 45W (Củ sạc 45W ...</td>\n",
       "      <td>2 nano sim hoặc 1 nano sim và 1 esim</td>\n",
       "      <td>6.8”</td>\n",
       "      <td>Dynamic AMOLED 2X</td>\n",
       "    </tr>\n",
       "    <tr>\n",
       "      <th>1</th>\n",
       "      <td>Samsung Galaxy S22 8/128GB</td>\n",
       "      <td>19.990.000 ₫</td>\n",
       "      <td>Chip Snapdragon® 8 Gen 1 (4nm)</td>\n",
       "      <td>8GB</td>\n",
       "      <td>128GB</td>\n",
       "      <td>Pin 3700 mAh | Sạc siêu nhanh 25W (Củ sạc 25W ...</td>\n",
       "      <td>2 nano sim hoặc 1 nano sim và 1 esim</td>\n",
       "      <td>6.1”</td>\n",
       "      <td>Dynamic AMOLED 2X</td>\n",
       "    </tr>\n",
       "    <tr>\n",
       "      <th>2</th>\n",
       "      <td>Samsung Galaxy S22 Plus 8/128GB</td>\n",
       "      <td>23.990.000 ₫</td>\n",
       "      <td>Chip Snapdragon® 8 Gen 1 (4nm)</td>\n",
       "      <td>8GB</td>\n",
       "      <td>128GB</td>\n",
       "      <td>Pin 4500 mAh | Sạc siêu nhanh 45W (Củ sạc 45W ...</td>\n",
       "      <td>2 nano sim hoặc 1 nano sim và 1 esim</td>\n",
       "      <td>6.6”</td>\n",
       "      <td>Dynamic AMOLED 2X</td>\n",
       "    </tr>\n",
       "    <tr>\n",
       "      <th>3</th>\n",
       "      <td>iPhone 13 Pro Max 128GB</td>\n",
       "      <td>29.490.000 ₫</td>\n",
       "      <td>Apple A15 Bionic 6 nhân; Tốc độ CPU 3.22 GHz; ...</td>\n",
       "      <td>6 GB</td>\n",
       "      <td>128 GB</td>\n",
       "      <td>4352 mAh; Li-Ion; Hỗ trợ sạc tối đa 20 W; Sạc ...</td>\n",
       "      <td>1 Nano SIM &amp; 1 eSIM</td>\n",
       "      <td>6.7\"</td>\n",
       "      <td>OLED</td>\n",
       "    </tr>\n",
       "    <tr>\n",
       "      <th>4</th>\n",
       "      <td>iPhone 13 Pro Max 256GB</td>\n",
       "      <td>31.990.000 ₫</td>\n",
       "      <td>Apple A15 Bionic 6 nhân; Tốc độ CPU 3.22 GHz; ...</td>\n",
       "      <td>6 GB</td>\n",
       "      <td>256 GB</td>\n",
       "      <td>4352 mAh; Li-Ion; Hỗ trợ sạc tối đa 20 W; Sạc ...</td>\n",
       "      <td>1 Nano SIM &amp; 1 eSIM</td>\n",
       "      <td>6.7\"</td>\n",
       "      <td>OLED</td>\n",
       "    </tr>\n",
       "  </tbody>\n",
       "</table>\n",
       "</div>"
      ],
      "text/plain": [
       "                        Tên sản phẩm           Gía  \\\n",
       "0  Samsung Galaxy S22 Ultra 12/256GB  31.990.000 ₫   \n",
       "1         Samsung Galaxy S22 8/128GB  19.990.000 ₫   \n",
       "2    Samsung Galaxy S22 Plus 8/128GB  23.990.000 ₫   \n",
       "3            iPhone 13 Pro Max 128GB  29.490.000 ₫   \n",
       "4            iPhone 13 Pro Max 256GB  31.990.000 ₫   \n",
       "\n",
       "                                                Chip   RAM Bộ nhớ trong  \\\n",
       "0                     Chip Snapdragon® 8 Gen 1 (4nm)  12GB        256GB   \n",
       "1                     Chip Snapdragon® 8 Gen 1 (4nm)   8GB        128GB   \n",
       "2                     Chip Snapdragon® 8 Gen 1 (4nm)   8GB        128GB   \n",
       "3  Apple A15 Bionic 6 nhân; Tốc độ CPU 3.22 GHz; ...  6 GB       128 GB   \n",
       "4  Apple A15 Bionic 6 nhân; Tốc độ CPU 3.22 GHz; ...  6 GB       256 GB   \n",
       "\n",
       "                                                 Pin  \\\n",
       "0  Pin 5000 mAh | Sạc siêu nhanh 45W (Củ sạc 45W ...   \n",
       "1  Pin 3700 mAh | Sạc siêu nhanh 25W (Củ sạc 25W ...   \n",
       "2  Pin 4500 mAh | Sạc siêu nhanh 45W (Củ sạc 45W ...   \n",
       "3  4352 mAh; Li-Ion; Hỗ trợ sạc tối đa 20 W; Sạc ...   \n",
       "4  4352 mAh; Li-Ion; Hỗ trợ sạc tối đa 20 W; Sạc ...   \n",
       "\n",
       "                                    SIM Kích thước màn hình Công nghệ màn hình  \n",
       "0  2 nano sim hoặc 1 nano sim và 1 esim                6.8”  Dynamic AMOLED 2X  \n",
       "1  2 nano sim hoặc 1 nano sim và 1 esim                6.1”  Dynamic AMOLED 2X  \n",
       "2  2 nano sim hoặc 1 nano sim và 1 esim                6.6”  Dynamic AMOLED 2X  \n",
       "3                   1 Nano SIM & 1 eSIM                6.7\"               OLED  \n",
       "4                   1 Nano SIM & 1 eSIM                6.7\"               OLED  "
      ]
     },
     "execution_count": 3,
     "metadata": {},
     "output_type": "execute_result"
    }
   ],
   "source": [
    "drop_columns = ['Màn hình', 'Camera sau', 'Camera trước']\n",
    "\n",
    "for column in drop_columns:\n",
    "    del vt_df[column]\n",
    "\n",
    "vt_df.head()"
   ]
  },
  {
   "cell_type": "markdown",
   "metadata": {},
   "source": [
    "# Xử lý tên cột"
   ]
  },
  {
   "cell_type": "code",
   "execution_count": 4,
   "metadata": {},
   "outputs": [],
   "source": [
    "vt_df = vt_df.rename(columns={\"Tên sản phẩm\": \"ten\", \"Gía\": \"gia\", 'Chip': 'cpu'})\n",
    "\n",
    "for column in vt_df.columns:\n",
    "    vt_df = vt_df.rename(columns={column: ViUtils.remove_accents(column).decode(\"utf-8\").lower().strip().replace(' ', '_')})"
   ]
  },
  {
   "cell_type": "markdown",
   "metadata": {},
   "source": [
    "# Xử lý trường tên"
   ]
  },
  {
   "cell_type": "code",
   "execution_count": 5,
   "metadata": {},
   "outputs": [],
   "source": [
    "vt_df = vt_df[vt_df['ten'].notna()]\n",
    "vt_df['ten'] = vt_df['ten'].apply(lambda s: ViUtils.remove_accents(s).decode(\"utf-8\"))"
   ]
  },
  {
   "cell_type": "markdown",
   "metadata": {},
   "source": [
    "# Xử lý trường giá"
   ]
  },
  {
   "cell_type": "code",
   "execution_count": 6,
   "metadata": {},
   "outputs": [],
   "source": [
    "vt_df = vt_df[vt_df['gia'].notna()]\n",
    "vt_df['gia'] = vt_df['gia'].apply(lambda s: str(s).replace('₫', '').replace('.', '').replace('*', '').strip())\n",
    "vt_df['gia'] = vt_df['gia'].apply(lambda s: int(s))"
   ]
  },
  {
   "cell_type": "markdown",
   "metadata": {},
   "source": [
    "# Xử lý trường kích thước màn hình"
   ]
  },
  {
   "cell_type": "code",
   "execution_count": 7,
   "metadata": {},
   "outputs": [],
   "source": [
    "def process_screen_size(s):\n",
    "    try:\n",
    "        if \" \" in s:\n",
    "            size = s.split(' ')\n",
    "            size1 = float(size[0][:-1])\n",
    "            size2 = float(size[1][:-1])\n",
    "            size = size1 + size2\n",
    "        else:\n",
    "            size = float(s[:-1])\n",
    "    except:\n",
    "        size = 0\n",
    "    return size\n",
    "\n",
    "vt_df['kich_thuoc_man_hinh'] = vt_df['kich_thuoc_man_hinh'].apply(process_screen_size)"
   ]
  },
  {
   "cell_type": "markdown",
   "metadata": {},
   "source": [
    "# Xử lý trường bộ nhớ trong"
   ]
  },
  {
   "cell_type": "code",
   "execution_count": 8,
   "metadata": {},
   "outputs": [],
   "source": [
    "def process_rom(s):\n",
    "    try:\n",
    "        if 'GB' in s:\n",
    "            return float(s.replace('GB', '').strip())\n",
    "        elif 'MB' in s:\n",
    "            return float(s.replace('MB', '').strip())/1024\n",
    "        elif 'TB' in s:\n",
    "            return float(s.replace('TB', '').strip())*1024\n",
    "    except:\n",
    "        return 0\n",
    "\n",
    "vt_df['bo_nho_trong'] = vt_df['bo_nho_trong'].apply(process_rom)"
   ]
  },
  {
   "cell_type": "markdown",
   "metadata": {},
   "source": [
    "# Xử lý trường RAM"
   ]
  },
  {
   "cell_type": "code",
   "execution_count": 9,
   "metadata": {},
   "outputs": [],
   "source": [
    "def process_ram(s):\n",
    "    try:\n",
    "        return int(s.replace('GB', '').strip())\n",
    "    except:\n",
    "        return 0\n",
    "\n",
    "vt_df['ram'] = vt_df['ram'].apply(process_ram)"
   ]
  },
  {
   "cell_type": "code",
   "execution_count": 10,
   "metadata": {},
   "outputs": [
    {
     "name": "stdout",
     "output_type": "stream",
     "text": [
      "ten\n",
      "gia\n",
      "cpu\n",
      "ram\n",
      "bo_nho_trong\n",
      "pin\n",
      "sim\n",
      "kich_thuoc_man_hinh\n",
      "cong_nghe_man_hinh\n"
     ]
    }
   ],
   "source": [
    "for column in vt_df.columns:\n",
    "    print(column)"
   ]
  },
  {
   "cell_type": "code",
   "execution_count": 11,
   "metadata": {},
   "outputs": [],
   "source": [
    "vt_df.to_csv('../clean_data/viettel.csv', index=False)"
   ]
  }
 ],
 "metadata": {
  "kernelspec": {
   "display_name": "Python 3.9.10 64-bit",
   "language": "python",
   "name": "python3"
  },
  "language_info": {
   "codemirror_mode": {
    "name": "ipython",
    "version": 3
   },
   "file_extension": ".py",
   "mimetype": "text/x-python",
   "name": "python",
   "nbconvert_exporter": "python",
   "pygments_lexer": "ipython3",
   "version": "3.9.10"
  },
  "orig_nbformat": 4,
  "vscode": {
   "interpreter": {
    "hash": "46cbce0cc1b91bd412f5f59393cf4a56ecc421974209d990c21917623ca76b21"
   }
  }
 },
 "nbformat": 4,
 "nbformat_minor": 2
}
