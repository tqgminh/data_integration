{
 "cells": [
  {
   "cell_type": "code",
   "execution_count": 1,
   "metadata": {},
   "outputs": [],
   "source": [
    "import pandas as pd\n",
    "from pyvi import ViUtils\n",
    "import re"
   ]
  },
  {
   "cell_type": "code",
   "execution_count": 2,
   "metadata": {},
   "outputs": [
    {
     "name": "stdout",
     "output_type": "stream",
     "text": [
      "Tên sản phẩm\n",
      "Gía\n",
      "Bluetooth \n",
      "chip\n",
      "Màn hình\n",
      "Công nghệ màn hình\n",
      "pin\n",
      "sim\n",
      "trọng lượng\n",
      "RAM\n",
      "Độ phân giải\n",
      "ROM\n"
     ]
    }
   ],
   "source": [
    "ddv_df = pd.read_csv('../data/didongviet.csv')\n",
    "for column in ddv_df:\n",
    "    print(column)"
   ]
  },
  {
   "cell_type": "code",
   "execution_count": 3,
   "metadata": {},
   "outputs": [
    {
     "data": {
      "text/html": [
       "<div>\n",
       "<style scoped>\n",
       "    .dataframe tbody tr th:only-of-type {\n",
       "        vertical-align: middle;\n",
       "    }\n",
       "\n",
       "    .dataframe tbody tr th {\n",
       "        vertical-align: top;\n",
       "    }\n",
       "\n",
       "    .dataframe thead th {\n",
       "        text-align: right;\n",
       "    }\n",
       "</style>\n",
       "<table border=\"1\" class=\"dataframe\">\n",
       "  <thead>\n",
       "    <tr style=\"text-align: right;\">\n",
       "      <th></th>\n",
       "      <th>Tên sản phẩm</th>\n",
       "      <th>Gía</th>\n",
       "      <th>chip</th>\n",
       "      <th>Màn hình</th>\n",
       "      <th>Công nghệ màn hình</th>\n",
       "      <th>pin</th>\n",
       "      <th>sim</th>\n",
       "      <th>RAM</th>\n",
       "      <th>ROM</th>\n",
       "    </tr>\n",
       "  </thead>\n",
       "  <tbody>\n",
       "    <tr>\n",
       "      <th>0</th>\n",
       "      <td>iPhone 13 256GB Chính Hãng (VN/A)</td>\n",
       "      <td>21.990.000 ₫</td>\n",
       "      <td>Apple A15 Bionic</td>\n",
       "      <td>6.1\" - Tần số quét 60 Hz</td>\n",
       "      <td>OLED</td>\n",
       "      <td>NaN</td>\n",
       "      <td>1 Nano SIM &amp; 1 eSIM</td>\n",
       "      <td>4 GB</td>\n",
       "      <td>256 GB</td>\n",
       "    </tr>\n",
       "    <tr>\n",
       "      <th>1</th>\n",
       "      <td>iPhone 13 Pro 128GB Chính Hãng (VN/A)</td>\n",
       "      <td>24.990.000 ₫</td>\n",
       "      <td>Apple A15 Bionic</td>\n",
       "      <td>6.1\" - Tần số quét 120 Hz</td>\n",
       "      <td>Super Retina XDR - ProMotion</td>\n",
       "      <td>NaN</td>\n",
       "      <td>1 Nano SIM &amp; 1 eSIM</td>\n",
       "      <td>6 GB</td>\n",
       "      <td>128 GB</td>\n",
       "    </tr>\n",
       "    <tr>\n",
       "      <th>2</th>\n",
       "      <td>iPhone 13 Pro 256GB Chính Hãng (VN/A)</td>\n",
       "      <td>27.990.000 ₫</td>\n",
       "      <td>Apple A15 Bionic</td>\n",
       "      <td>6.1\" - Tần số quét 120 Hz</td>\n",
       "      <td>Super Retina XDR - ProMotion</td>\n",
       "      <td>NaN</td>\n",
       "      <td>1 Nano SIM &amp; 1 eSIM</td>\n",
       "      <td>6 GB</td>\n",
       "      <td>256 GB</td>\n",
       "    </tr>\n",
       "    <tr>\n",
       "      <th>3</th>\n",
       "      <td>iPhone 13 Pro 512GB Chính Hãng (VN/A)</td>\n",
       "      <td>32.990.000 ₫</td>\n",
       "      <td>Apple A15 Bionic</td>\n",
       "      <td>6.1\" - Tần số quét 120 Hz</td>\n",
       "      <td>Super Retina XDR - ProMotion</td>\n",
       "      <td>NaN</td>\n",
       "      <td>1 Nano SIM &amp; 1 eSIM</td>\n",
       "      <td>6 GB</td>\n",
       "      <td>512 GB</td>\n",
       "    </tr>\n",
       "    <tr>\n",
       "      <th>4</th>\n",
       "      <td>iPhone 13 Pro Max 128GB Chính Hãng (VN/A)</td>\n",
       "      <td>26.990.000 ₫</td>\n",
       "      <td>Apple A15 Bionic</td>\n",
       "      <td>6.7\" - Tần số quét 120Hz</td>\n",
       "      <td>Super Retina XDR - ProMotion</td>\n",
       "      <td>4325 mAh</td>\n",
       "      <td>1 Nano SIM &amp; 1 eSIM</td>\n",
       "      <td>6 GB</td>\n",
       "      <td>128 GB</td>\n",
       "    </tr>\n",
       "  </tbody>\n",
       "</table>\n",
       "</div>"
      ],
      "text/plain": [
       "                                Tên sản phẩm           Gía              chip  \\\n",
       "0          iPhone 13 256GB Chính Hãng (VN/A)  21.990.000 ₫  Apple A15 Bionic   \n",
       "1      iPhone 13 Pro 128GB Chính Hãng (VN/A)  24.990.000 ₫  Apple A15 Bionic   \n",
       "2      iPhone 13 Pro 256GB Chính Hãng (VN/A)  27.990.000 ₫  Apple A15 Bionic   \n",
       "3      iPhone 13 Pro 512GB Chính Hãng (VN/A)  32.990.000 ₫  Apple A15 Bionic   \n",
       "4  iPhone 13 Pro Max 128GB Chính Hãng (VN/A)  26.990.000 ₫  Apple A15 Bionic   \n",
       "\n",
       "                    Màn hình            Công nghệ màn hình       pin  \\\n",
       "0   6.1\" - Tần số quét 60 Hz                          OLED       NaN   \n",
       "1  6.1\" - Tần số quét 120 Hz  Super Retina XDR - ProMotion       NaN   \n",
       "2  6.1\" - Tần số quét 120 Hz  Super Retina XDR - ProMotion       NaN   \n",
       "3  6.1\" - Tần số quét 120 Hz  Super Retina XDR - ProMotion       NaN   \n",
       "4   6.7\" - Tần số quét 120Hz  Super Retina XDR - ProMotion  4325 mAh   \n",
       "\n",
       "                   sim   RAM     ROM  \n",
       "0  1 Nano SIM & 1 eSIM  4 GB  256 GB  \n",
       "1  1 Nano SIM & 1 eSIM  6 GB  128 GB  \n",
       "2  1 Nano SIM & 1 eSIM  6 GB  256 GB  \n",
       "3  1 Nano SIM & 1 eSIM  6 GB  512 GB  \n",
       "4  1 Nano SIM & 1 eSIM  6 GB  128 GB  "
      ]
     },
     "execution_count": 3,
     "metadata": {},
     "output_type": "execute_result"
    }
   ],
   "source": [
    "drop_columns = ['Bluetooth ', 'trọng lượng', 'Độ phân giải']\n",
    "\n",
    "for column in drop_columns:\n",
    "    del ddv_df[column]\n",
    "\n",
    "ddv_df.head()"
   ]
  },
  {
   "cell_type": "code",
   "execution_count": 4,
   "metadata": {},
   "outputs": [
    {
     "name": "stdout",
     "output_type": "stream",
     "text": [
      "859\n"
     ]
    }
   ],
   "source": [
    "print(len(ddv_df))"
   ]
  },
  {
   "cell_type": "markdown",
   "metadata": {},
   "source": [
    "# Xử lý tên cột"
   ]
  },
  {
   "cell_type": "code",
   "execution_count": 5,
   "metadata": {},
   "outputs": [],
   "source": [
    "ddv_df = ddv_df.rename(columns={\"Tên sản phẩm\": \"ten\", \"Gía\": \"gia\", \"chip\": \"cpu\", \"Màn hình\": \"kich_thuoc_man_hinh\", \"ROM\": \"bo_nho_trong\"})\n",
    "\n",
    "for column in ddv_df.columns:\n",
    "    ddv_df = ddv_df.rename(columns={column: ViUtils.remove_accents(column).decode(\"utf-8\").lower().strip().replace(' ', '_')})"
   ]
  },
  {
   "cell_type": "markdown",
   "metadata": {},
   "source": [
    "# Xử lý trường tên"
   ]
  },
  {
   "cell_type": "code",
   "execution_count": 6,
   "metadata": {},
   "outputs": [],
   "source": [
    "ddv_df = ddv_df[ddv_df['ten'].notna()]\n",
    "ddv_df['ten'] = ddv_df['ten'].apply(lambda s: str(s).replace('Chính Hãng', '').replace('(VN/A)', '').replace('I', '').replace('Điện thoại', '').strip())\n",
    "ddv_df['ten'] = ddv_df['ten'].apply(lambda s: ViUtils.remove_accents(s).decode(\"utf-8\"))"
   ]
  },
  {
   "cell_type": "markdown",
   "metadata": {},
   "source": [
    "# Xử lý trường giá"
   ]
  },
  {
   "cell_type": "code",
   "execution_count": 7,
   "metadata": {},
   "outputs": [],
   "source": [
    "ddv_df = ddv_df[ddv_df['gia'].notna()]\n",
    "ddv_df['gia'] = ddv_df['gia'].apply(lambda s: str(s).replace('₫', '').replace('.', '').replace('*', '').strip())\n",
    "ddv_df['gia'] = ddv_df['gia'].apply(lambda s: int(s))"
   ]
  },
  {
   "cell_type": "markdown",
   "metadata": {},
   "source": [
    "# Xử lý trường kích thước màn hình"
   ]
  },
  {
   "cell_type": "code",
   "execution_count": 8,
   "metadata": {},
   "outputs": [],
   "source": [
    "def process_screen_size(s):\n",
    "    try:\n",
    "        size = re.findall(r\"[-+]?(?:\\d*\\.\\d+|\\d+)\", s)\n",
    "        res = 0\n",
    "        for si in size:\n",
    "            si = float(si)\n",
    "            if si < 20:\n",
    "                res += si\n",
    "        return res\n",
    "    except:\n",
    "        return 0\n",
    "\n",
    "ddv_df['kich_thuoc_man_hinh'] = ddv_df['kich_thuoc_man_hinh'].apply(process_screen_size)"
   ]
  },
  {
   "cell_type": "markdown",
   "metadata": {},
   "source": [
    "# Xử lý trường bộ nhớ trong"
   ]
  },
  {
   "cell_type": "code",
   "execution_count": 9,
   "metadata": {},
   "outputs": [],
   "source": [
    "def process_rom(s):\n",
    "    try:\n",
    "        if 'GB' in s:\n",
    "            return float(s[:-2].strip())\n",
    "        elif 'MB' in s:\n",
    "            return float(s[:-2].strip())/1024\n",
    "        else:\n",
    "            return float(s[:-2].strip())*1024\n",
    "    except:\n",
    "        return 0\n",
    "\n",
    "ddv_df['bo_nho_trong'] = ddv_df['bo_nho_trong'].apply(process_rom)"
   ]
  },
  {
   "cell_type": "markdown",
   "metadata": {},
   "source": [
    "# Xử lý trường RAM"
   ]
  },
  {
   "cell_type": "code",
   "execution_count": 10,
   "metadata": {},
   "outputs": [],
   "source": [
    "def process_ram(s):\n",
    "    try:\n",
    "        if 'GB' in s:\n",
    "            return float(s[:-2].strip())\n",
    "        elif 'MB' in s:\n",
    "            return float(s[:-2].strip())/1024\n",
    "        else:\n",
    "            return float(s[:-2].strip())*1024\n",
    "    except:\n",
    "        return 0\n",
    "\n",
    "ddv_df['ram'] = ddv_df['ram'].apply(process_ram)"
   ]
  },
  {
   "cell_type": "code",
   "execution_count": 11,
   "metadata": {},
   "outputs": [
    {
     "name": "stdout",
     "output_type": "stream",
     "text": [
      "ten\n",
      "gia\n",
      "cpu\n",
      "kich_thuoc_man_hinh\n",
      "cong_nghe_man_hinh\n",
      "pin\n",
      "sim\n",
      "ram\n",
      "bo_nho_trong\n"
     ]
    }
   ],
   "source": [
    "for column in ddv_df.columns:\n",
    "    print(column)"
   ]
  },
  {
   "cell_type": "code",
   "execution_count": 12,
   "metadata": {},
   "outputs": [],
   "source": [
    "ddv_df = ddv_df.drop_duplicates()"
   ]
  },
  {
   "cell_type": "code",
   "execution_count": 13,
   "metadata": {},
   "outputs": [],
   "source": [
    "ddv_df.to_csv('../clean_data/didongviet.csv', index=False)"
   ]
  }
 ],
 "metadata": {
  "kernelspec": {
   "display_name": "Python 3.9.10 64-bit",
   "language": "python",
   "name": "python3"
  },
  "language_info": {
   "codemirror_mode": {
    "name": "ipython",
    "version": 3
   },
   "file_extension": ".py",
   "mimetype": "text/x-python",
   "name": "python",
   "nbconvert_exporter": "python",
   "pygments_lexer": "ipython3",
   "version": "3.9.10"
  },
  "orig_nbformat": 4,
  "vscode": {
   "interpreter": {
    "hash": "46cbce0cc1b91bd412f5f59393cf4a56ecc421974209d990c21917623ca76b21"
   }
  }
 },
 "nbformat": 4,
 "nbformat_minor": 2
}
