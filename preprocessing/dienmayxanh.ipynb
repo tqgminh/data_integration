{
 "cells": [
  {
   "cell_type": "code",
   "execution_count": 1,
   "metadata": {},
   "outputs": [],
   "source": [
    "import pandas as pd\n",
    "from pyvi import ViUtils"
   ]
  },
  {
   "cell_type": "code",
   "execution_count": 2,
   "metadata": {},
   "outputs": [
    {
     "name": "stdout",
     "output_type": "stream",
     "text": [
      "TÊN SẢN PHẨM\n",
      "giá sản phẩm\n",
      "Chip\n",
      "kích thước\n",
      "Pin\n",
      "SIM\n",
      "RAM\n",
      "ROM\n"
     ]
    }
   ],
   "source": [
    "dmx_df = pd.read_csv('../data/dienmayxanh.csv', encoding='utf-8')\n",
    "for column in dmx_df:\n",
    "    print(column)"
   ]
  },
  {
   "cell_type": "code",
   "execution_count": 3,
   "metadata": {},
   "outputs": [
    {
     "data": {
      "text/html": [
       "<div>\n",
       "<style scoped>\n",
       "    .dataframe tbody tr th:only-of-type {\n",
       "        vertical-align: middle;\n",
       "    }\n",
       "\n",
       "    .dataframe tbody tr th {\n",
       "        vertical-align: top;\n",
       "    }\n",
       "\n",
       "    .dataframe thead th {\n",
       "        text-align: right;\n",
       "    }\n",
       "</style>\n",
       "<table border=\"1\" class=\"dataframe\">\n",
       "  <thead>\n",
       "    <tr style=\"text-align: right;\">\n",
       "      <th></th>\n",
       "      <th>TÊN SẢN PHẨM</th>\n",
       "      <th>giá sản phẩm</th>\n",
       "      <th>Chip</th>\n",
       "      <th>kích thước</th>\n",
       "      <th>Pin</th>\n",
       "      <th>SIM</th>\n",
       "      <th>RAM</th>\n",
       "      <th>ROM</th>\n",
       "    </tr>\n",
       "  </thead>\n",
       "  <tbody>\n",
       "    <tr>\n",
       "      <th>0</th>\n",
       "      <td>Điện thoại Samsung Galaxy S22 Ultra 5G 128GB</td>\n",
       "      <td>27.990.000</td>\n",
       "      <td>Snapdragon 8 Gen 1 8 nhân</td>\n",
       "      <td>6.8\" - Tần số quét 120 Hz</td>\n",
       "      <td>5000 mAh</td>\n",
       "      <td>2 Nano SIM hoặc 1 Nano SIM + 1 eSIM</td>\n",
       "      <td>8 GB</td>\n",
       "      <td>128 GB</td>\n",
       "    </tr>\n",
       "    <tr>\n",
       "      <th>1</th>\n",
       "      <td>Điện thoại iPhone 11 64GB</td>\n",
       "      <td>13.790.000</td>\n",
       "      <td>Apple A13 Bionic 6 nhân</td>\n",
       "      <td>6.1\" - Tần số quét 60 Hz</td>\n",
       "      <td>3110 mAh</td>\n",
       "      <td>1 Nano SIM &amp; 1 eSIM</td>\n",
       "      <td>4 GB</td>\n",
       "      <td>64 GB</td>\n",
       "    </tr>\n",
       "    <tr>\n",
       "      <th>2</th>\n",
       "      <td>Điện thoại Samsung Galaxy S22 Ultra 5G 128GB</td>\n",
       "      <td>27.990.000</td>\n",
       "      <td>Snapdragon 8 Gen 1 8 nhân</td>\n",
       "      <td>6.8\" - Tần số quét 120 Hz</td>\n",
       "      <td>5000 mAh</td>\n",
       "      <td>2 Nano SIM hoặc 1 Nano SIM + 1 eSIM</td>\n",
       "      <td>8 GB</td>\n",
       "      <td>128 GB</td>\n",
       "    </tr>\n",
       "    <tr>\n",
       "      <th>3</th>\n",
       "      <td>Điện thoại iPhone 11 64GB</td>\n",
       "      <td>13.790.000</td>\n",
       "      <td>Apple A13 Bionic 6 nhân</td>\n",
       "      <td>6.1\" - Tần số quét 60 Hz</td>\n",
       "      <td>3110 mAh</td>\n",
       "      <td>1 Nano SIM &amp; 1 eSIM</td>\n",
       "      <td>4 GB</td>\n",
       "      <td>64 GB</td>\n",
       "    </tr>\n",
       "    <tr>\n",
       "      <th>4</th>\n",
       "      <td>Điện thoại OPPO Reno7</td>\n",
       "      <td>8.490.000</td>\n",
       "      <td>Snapdragon 680 8 nhân</td>\n",
       "      <td>6.43\" - Tần số quét 90 Hz</td>\n",
       "      <td>4500 mAh</td>\n",
       "      <td>2 Nano SIM</td>\n",
       "      <td>8 GB</td>\n",
       "      <td>128 GB</td>\n",
       "    </tr>\n",
       "  </tbody>\n",
       "</table>\n",
       "</div>"
      ],
      "text/plain": [
       "                                   TÊN SẢN PHẨM giá sản phẩm  \\\n",
       "0  Điện thoại Samsung Galaxy S22 Ultra 5G 128GB   27.990.000   \n",
       "1                     Điện thoại iPhone 11 64GB   13.790.000   \n",
       "2  Điện thoại Samsung Galaxy S22 Ultra 5G 128GB   27.990.000   \n",
       "3                     Điện thoại iPhone 11 64GB   13.790.000   \n",
       "4                         Điện thoại OPPO Reno7    8.490.000   \n",
       "\n",
       "                        Chip                 kích thước       Pin  \\\n",
       "0  Snapdragon 8 Gen 1 8 nhân  6.8\" - Tần số quét 120 Hz  5000 mAh   \n",
       "1    Apple A13 Bionic 6 nhân   6.1\" - Tần số quét 60 Hz  3110 mAh   \n",
       "2  Snapdragon 8 Gen 1 8 nhân  6.8\" - Tần số quét 120 Hz  5000 mAh   \n",
       "3    Apple A13 Bionic 6 nhân   6.1\" - Tần số quét 60 Hz  3110 mAh   \n",
       "4      Snapdragon 680 8 nhân  6.43\" - Tần số quét 90 Hz  4500 mAh   \n",
       "\n",
       "                                   SIM   RAM     ROM  \n",
       "0  2 Nano SIM hoặc 1 Nano SIM + 1 eSIM  8 GB  128 GB  \n",
       "1                  1 Nano SIM & 1 eSIM  4 GB   64 GB  \n",
       "2  2 Nano SIM hoặc 1 Nano SIM + 1 eSIM  8 GB  128 GB  \n",
       "3                  1 Nano SIM & 1 eSIM  4 GB   64 GB  \n",
       "4                           2 Nano SIM  8 GB  128 GB  "
      ]
     },
     "execution_count": 3,
     "metadata": {},
     "output_type": "execute_result"
    }
   ],
   "source": [
    "dmx_df.head()"
   ]
  },
  {
   "cell_type": "code",
   "execution_count": 4,
   "metadata": {},
   "outputs": [
    {
     "name": "stdout",
     "output_type": "stream",
     "text": [
      "123\n"
     ]
    }
   ],
   "source": [
    "print(len(dmx_df))"
   ]
  },
  {
   "cell_type": "markdown",
   "metadata": {},
   "source": [
    "# Xử lý tên cột"
   ]
  },
  {
   "cell_type": "code",
   "execution_count": 5,
   "metadata": {},
   "outputs": [],
   "source": [
    "dmx_df = dmx_df.rename(columns={\"TÊN SẢN PHẨM\": \"ten\", \"giá sản phẩm\": \"gia\", \"Chip\": \"cpu\", \"kích thước\": \"kich_thuoc_man_hinh\", \"ROM\": \"bo_nho_trong\"})\n",
    "\n",
    "for column in dmx_df.columns:\n",
    "    dmx_df = dmx_df.rename(columns={column: ViUtils.remove_accents(column).decode(\"utf-8\").lower().strip().replace(' ', '_')})"
   ]
  },
  {
   "cell_type": "markdown",
   "metadata": {},
   "source": [
    "# Xử lý trường tên"
   ]
  },
  {
   "cell_type": "code",
   "execution_count": 6,
   "metadata": {},
   "outputs": [],
   "source": [
    "dmx_df = dmx_df[dmx_df['ten'].notna()]\n",
    "dmx_df['ten'] = dmx_df['ten'].apply(lambda s: str(s).replace('|', '').replace('Chính hãng', '').replace('VN/A', '').replace('I', '').replace('Điện thoại', '').strip())\n",
    "dmx_df['ten'] = dmx_df['ten'].apply(lambda s: ViUtils.remove_accents(s).decode(\"utf-8\"))"
   ]
  },
  {
   "cell_type": "markdown",
   "metadata": {},
   "source": [
    "# Xử lý trường giá"
   ]
  },
  {
   "cell_type": "code",
   "execution_count": 7,
   "metadata": {},
   "outputs": [],
   "source": [
    "dmx_df = dmx_df[dmx_df['gia'].notna()]\n",
    "dmx_df['gia'] = dmx_df['gia'].apply(lambda s: str(s).replace('₫', '').replace('.', '').replace('*', '').strip())\n",
    "dmx_df['gia'] = dmx_df['gia'].apply(lambda s: int(s))"
   ]
  },
  {
   "cell_type": "markdown",
   "metadata": {},
   "source": [
    "# Xử lý trường kích thước màn hình"
   ]
  },
  {
   "cell_type": "code",
   "execution_count": 8,
   "metadata": {},
   "outputs": [],
   "source": [
    "def process_screen_size(s):\n",
    "    try:\n",
    "        size = s.split('-')\n",
    "        size = size[0].strip()\n",
    "        size = float(size[:-1])\n",
    "    except:\n",
    "        size = 0\n",
    "    return size\n",
    "\n",
    "dmx_df['kich_thuoc_man_hinh'] = dmx_df['kich_thuoc_man_hinh'].apply(process_screen_size)"
   ]
  },
  {
   "cell_type": "markdown",
   "metadata": {},
   "source": [
    "# Xử lý trường bộ nhớ trong"
   ]
  },
  {
   "cell_type": "code",
   "execution_count": 9,
   "metadata": {},
   "outputs": [],
   "source": [
    "def process_rom(s):\n",
    "    try:\n",
    "        if 'GB' in s:\n",
    "            return float(s[:-3])\n",
    "        elif 'MB' in s:\n",
    "            return float(s[:-3])/1024\n",
    "        else:\n",
    "            return float(s[:-3])*1024\n",
    "    except:\n",
    "        return 0\n",
    "\n",
    "dmx_df['bo_nho_trong'] = dmx_df['bo_nho_trong'].apply(process_rom)"
   ]
  },
  {
   "cell_type": "markdown",
   "metadata": {},
   "source": [
    "# Xử lý trường RAM"
   ]
  },
  {
   "cell_type": "code",
   "execution_count": 10,
   "metadata": {},
   "outputs": [],
   "source": [
    "def process_ram(s):\n",
    "    try:\n",
    "        if 'GB' in s:\n",
    "            return float(s[:-3])\n",
    "        elif 'MB' in s:\n",
    "            return float(s[:-3])/1024\n",
    "        else:\n",
    "            return float(s[:-3])*1024\n",
    "    except:\n",
    "        return 0\n",
    "\n",
    "dmx_df['ram'] = dmx_df['ram'].apply(process_ram)"
   ]
  },
  {
   "cell_type": "code",
   "execution_count": 11,
   "metadata": {},
   "outputs": [
    {
     "name": "stdout",
     "output_type": "stream",
     "text": [
      "ten\n",
      "gia\n",
      "cpu\n",
      "kich_thuoc_man_hinh\n",
      "pin\n",
      "sim\n",
      "ram\n",
      "bo_nho_trong\n"
     ]
    }
   ],
   "source": [
    "for column in dmx_df.columns:\n",
    "    print(column)"
   ]
  },
  {
   "cell_type": "code",
   "execution_count": 12,
   "metadata": {},
   "outputs": [],
   "source": [
    "dmx_df = dmx_df.drop_duplicates()"
   ]
  },
  {
   "cell_type": "code",
   "execution_count": 13,
   "metadata": {},
   "outputs": [],
   "source": [
    "dmx_df.to_csv('../clean_data/dienmayxanh.csv', index=False)"
   ]
  }
 ],
 "metadata": {
  "kernelspec": {
   "display_name": "Python 3.9.10 64-bit",
   "language": "python",
   "name": "python3"
  },
  "language_info": {
   "codemirror_mode": {
    "name": "ipython",
    "version": 3
   },
   "file_extension": ".py",
   "mimetype": "text/x-python",
   "name": "python",
   "nbconvert_exporter": "python",
   "pygments_lexer": "ipython3",
   "version": "3.9.10"
  },
  "orig_nbformat": 4,
  "vscode": {
   "interpreter": {
    "hash": "46cbce0cc1b91bd412f5f59393cf4a56ecc421974209d990c21917623ca76b21"
   }
  }
 },
 "nbformat": 4,
 "nbformat_minor": 2
}
