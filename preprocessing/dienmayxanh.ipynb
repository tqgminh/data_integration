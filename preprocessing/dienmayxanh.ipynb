{
 "cells": [
  {
   "cell_type": "code",
   "execution_count": 1,
   "metadata": {},
   "outputs": [],
   "source": [
    "import pandas as pd\n",
    "from pyvi import ViUtils\n",
    "import re"
   ]
  },
  {
   "cell_type": "code",
   "execution_count": 2,
   "metadata": {},
   "outputs": [
    {
     "name": "stdout",
     "output_type": "stream",
     "text": [
      "TÊN SẢN PHẨM\n",
      "GIÁ\n",
      "CHIP\n",
      "KÍCH THƯỚC MÀN HINH\n",
      "CÔNG NGHỆ MÀN HÌNH\n",
      "PIN\n",
      "SIM\n",
      "RAM\n",
      "ROM\n"
     ]
    }
   ],
   "source": [
    "dmx_df = pd.read_csv('../data/dienmayxanh.csv', encoding='utf-8')\n",
    "for column in dmx_df:\n",
    "    print(column)"
   ]
  },
  {
   "cell_type": "code",
   "execution_count": 3,
   "metadata": {},
   "outputs": [
    {
     "data": {
      "text/html": [
       "<div>\n",
       "<style scoped>\n",
       "    .dataframe tbody tr th:only-of-type {\n",
       "        vertical-align: middle;\n",
       "    }\n",
       "\n",
       "    .dataframe tbody tr th {\n",
       "        vertical-align: top;\n",
       "    }\n",
       "\n",
       "    .dataframe thead th {\n",
       "        text-align: right;\n",
       "    }\n",
       "</style>\n",
       "<table border=\"1\" class=\"dataframe\">\n",
       "  <thead>\n",
       "    <tr style=\"text-align: right;\">\n",
       "      <th></th>\n",
       "      <th>TÊN SẢN PHẨM</th>\n",
       "      <th>GIÁ</th>\n",
       "      <th>CHIP</th>\n",
       "      <th>KÍCH THƯỚC MÀN HINH</th>\n",
       "      <th>CÔNG NGHỆ MÀN HÌNH</th>\n",
       "      <th>PIN</th>\n",
       "      <th>SIM</th>\n",
       "      <th>RAM</th>\n",
       "      <th>ROM</th>\n",
       "    </tr>\n",
       "  </thead>\n",
       "  <tbody>\n",
       "    <tr>\n",
       "      <th>0</th>\n",
       "      <td>Điện thoại Samsung Galaxy S22 Ultra 5G 128GB</td>\n",
       "      <td>27.990.000₫</td>\n",
       "      <td>Snapdragon 8 Gen 1 8 nhân</td>\n",
       "      <td>6.8\" - Tần số quét 120 Hz</td>\n",
       "      <td>Dynamic AMOLED 2X</td>\n",
       "      <td>5000 mAh</td>\n",
       "      <td>2 Nano SIM hoặc 1 Nano SIM + 1 eSIM</td>\n",
       "      <td>8 GB</td>\n",
       "      <td>128 GB</td>\n",
       "    </tr>\n",
       "    <tr>\n",
       "      <th>1</th>\n",
       "      <td>Điện thoại Samsung Galaxy S22 Ultra 5G 128GB</td>\n",
       "      <td>27.990.000₫</td>\n",
       "      <td>Snapdragon 8 Gen 1 8 nhân</td>\n",
       "      <td>6.8\" - Tần số quét 120 Hz</td>\n",
       "      <td>Dynamic AMOLED 2X</td>\n",
       "      <td>5000 mAh</td>\n",
       "      <td>2 Nano SIM hoặc 1 Nano SIM + 1 eSIM</td>\n",
       "      <td>8 GB</td>\n",
       "      <td>128 GB</td>\n",
       "    </tr>\n",
       "    <tr>\n",
       "      <th>2</th>\n",
       "      <td>Điện thoại iPhone 11 64GB</td>\n",
       "      <td>NaN</td>\n",
       "      <td>Apple A13 Bionic 6 nhân</td>\n",
       "      <td>6.1\" - Tần số quét 60 Hz</td>\n",
       "      <td>IPS LCD</td>\n",
       "      <td>3110 mAh</td>\n",
       "      <td>1 Nano SIM &amp; 1 eSIM</td>\n",
       "      <td>4 GB</td>\n",
       "      <td>64 GB</td>\n",
       "    </tr>\n",
       "    <tr>\n",
       "      <th>3</th>\n",
       "      <td>Điện thoại Samsung Galaxy S22 Ultra 5G 128GB</td>\n",
       "      <td>27.990.000₫</td>\n",
       "      <td>Snapdragon 8 Gen 1 8 nhân</td>\n",
       "      <td>6.8\" - Tần số quét 120 Hz</td>\n",
       "      <td>Dynamic AMOLED 2X</td>\n",
       "      <td>5000 mAh</td>\n",
       "      <td>2 Nano SIM hoặc 1 Nano SIM + 1 eSIM</td>\n",
       "      <td>8 GB</td>\n",
       "      <td>128 GB</td>\n",
       "    </tr>\n",
       "    <tr>\n",
       "      <th>4</th>\n",
       "      <td>Điện thoại iPhone 11 64GB</td>\n",
       "      <td>NaN</td>\n",
       "      <td>Apple A13 Bionic 6 nhân</td>\n",
       "      <td>6.1\" - Tần số quét 60 Hz</td>\n",
       "      <td>IPS LCD</td>\n",
       "      <td>3110 mAh</td>\n",
       "      <td>1 Nano SIM &amp; 1 eSIM</td>\n",
       "      <td>4 GB</td>\n",
       "      <td>64 GB</td>\n",
       "    </tr>\n",
       "  </tbody>\n",
       "</table>\n",
       "</div>"
      ],
      "text/plain": [
       "                                   TÊN SẢN PHẨM          GIÁ  \\\n",
       "0  Điện thoại Samsung Galaxy S22 Ultra 5G 128GB  27.990.000₫   \n",
       "1  Điện thoại Samsung Galaxy S22 Ultra 5G 128GB  27.990.000₫   \n",
       "2                     Điện thoại iPhone 11 64GB          NaN   \n",
       "3  Điện thoại Samsung Galaxy S22 Ultra 5G 128GB  27.990.000₫   \n",
       "4                     Điện thoại iPhone 11 64GB          NaN   \n",
       "\n",
       "                        CHIP        KÍCH THƯỚC MÀN HINH CÔNG NGHỆ MÀN HÌNH  \\\n",
       "0  Snapdragon 8 Gen 1 8 nhân  6.8\" - Tần số quét 120 Hz  Dynamic AMOLED 2X   \n",
       "1  Snapdragon 8 Gen 1 8 nhân  6.8\" - Tần số quét 120 Hz  Dynamic AMOLED 2X   \n",
       "2    Apple A13 Bionic 6 nhân   6.1\" - Tần số quét 60 Hz            IPS LCD   \n",
       "3  Snapdragon 8 Gen 1 8 nhân  6.8\" - Tần số quét 120 Hz  Dynamic AMOLED 2X   \n",
       "4    Apple A13 Bionic 6 nhân   6.1\" - Tần số quét 60 Hz            IPS LCD   \n",
       "\n",
       "        PIN                                  SIM   RAM     ROM  \n",
       "0  5000 mAh  2 Nano SIM hoặc 1 Nano SIM + 1 eSIM  8 GB  128 GB  \n",
       "1  5000 mAh  2 Nano SIM hoặc 1 Nano SIM + 1 eSIM  8 GB  128 GB  \n",
       "2  3110 mAh                  1 Nano SIM & 1 eSIM  4 GB   64 GB  \n",
       "3  5000 mAh  2 Nano SIM hoặc 1 Nano SIM + 1 eSIM  8 GB  128 GB  \n",
       "4  3110 mAh                  1 Nano SIM & 1 eSIM  4 GB   64 GB  "
      ]
     },
     "execution_count": 3,
     "metadata": {},
     "output_type": "execute_result"
    }
   ],
   "source": [
    "dmx_df.head()"
   ]
  },
  {
   "cell_type": "code",
   "execution_count": 4,
   "metadata": {},
   "outputs": [
    {
     "name": "stdout",
     "output_type": "stream",
     "text": [
      "101\n"
     ]
    }
   ],
   "source": [
    "print(len(dmx_df))"
   ]
  },
  {
   "cell_type": "markdown",
   "metadata": {},
   "source": [
    "# Xử lý tên cột"
   ]
  },
  {
   "cell_type": "code",
   "execution_count": 5,
   "metadata": {},
   "outputs": [],
   "source": [
    "dmx_df = dmx_df.rename(columns={\"TÊN SẢN PHẨM\": \"Tên\"})\n",
    "\n",
    "for column in dmx_df.columns:\n",
    "    dmx_df = dmx_df.rename(columns={column: ViUtils.remove_accents(column).decode(\"utf-8\").lower().strip().replace(' ', '_')})"
   ]
  },
  {
   "cell_type": "markdown",
   "metadata": {},
   "source": [
    "# Xử lý trường tên"
   ]
  },
  {
   "cell_type": "code",
   "execution_count": 6,
   "metadata": {},
   "outputs": [],
   "source": [
    "dmx_df = dmx_df[dmx_df['ten'].notna()]\n",
    "dmx_df['ten'] = dmx_df['ten'].apply(lambda s: str(s).replace('|', '').replace('Chính hãng', '').replace('VN/A', '').replace('I', '').replace('Điện thoại', '').strip())\n",
    "dmx_df['ten'] = dmx_df['ten'].apply(lambda s: ViUtils.remove_accents(s).decode(\"utf-8\"))"
   ]
  },
  {
   "cell_type": "markdown",
   "metadata": {},
   "source": [
    "# Xử lý trường giá"
   ]
  },
  {
   "cell_type": "code",
   "execution_count": 7,
   "metadata": {},
   "outputs": [],
   "source": [
    "dmx_df = dmx_df[dmx_df['gia'].notna()]\n",
    "dmx_df['gia'] = dmx_df['gia'].apply(lambda s: str(s).replace('₫', '').replace('.', '').replace('*', '').strip())\n",
    "dmx_df['gia'] = dmx_df['gia'].apply(lambda s: int(s))"
   ]
  },
  {
   "cell_type": "markdown",
   "metadata": {},
   "source": [
    "# Xử lý trường kích thước màn hình"
   ]
  },
  {
   "cell_type": "code",
   "execution_count": 8,
   "metadata": {},
   "outputs": [],
   "source": [
    "def process_screen_size(s):\n",
    "    try:\n",
    "        size = re.findall(r\"[-+]?(?:\\d*\\.\\d+|\\d+)\", s)\n",
    "        res = 0\n",
    "        for si in size:\n",
    "            si = float(si)\n",
    "            if si < 20:\n",
    "                res += si\n",
    "        return res\n",
    "    except:\n",
    "        return 0\n",
    "\n",
    "dmx_df['kich_thuoc_man_hinh'] = dmx_df['kich_thuoc_man_hinh'].apply(process_screen_size)"
   ]
  },
  {
   "cell_type": "markdown",
   "metadata": {},
   "source": [
    "# Xử lý trường bộ nhớ trong"
   ]
  },
  {
   "cell_type": "code",
   "execution_count": 9,
   "metadata": {},
   "outputs": [],
   "source": [
    "def process_rom(s):\n",
    "    try:\n",
    "        if 'GB' in s:\n",
    "            return float(s[:-3])\n",
    "        elif 'MB' in s:\n",
    "            return float(s[:-3])/1024\n",
    "        else:\n",
    "            return float(s[:-3])*1024\n",
    "    except:\n",
    "        return 0\n",
    "\n",
    "dmx_df['rom'] = dmx_df['rom'].apply(process_rom)"
   ]
  },
  {
   "cell_type": "markdown",
   "metadata": {},
   "source": [
    "# Xử lý trường RAM"
   ]
  },
  {
   "cell_type": "code",
   "execution_count": 10,
   "metadata": {},
   "outputs": [],
   "source": [
    "def process_ram(s):\n",
    "    try:\n",
    "        if 'GB' in s:\n",
    "            return float(s[:-3])\n",
    "        elif 'MB' in s:\n",
    "            return float(s[:-3])/1024\n",
    "        else:\n",
    "            return float(s[:-3])*1024\n",
    "    except:\n",
    "        return 0\n",
    "\n",
    "dmx_df['ram'] = dmx_df['ram'].apply(process_ram)"
   ]
  },
  {
   "cell_type": "code",
   "execution_count": 11,
   "metadata": {},
   "outputs": [
    {
     "name": "stdout",
     "output_type": "stream",
     "text": [
      "ten\n",
      "gia\n",
      "chip\n",
      "kich_thuoc_man_hinh\n",
      "cong_nghe_man_hinh\n",
      "pin\n",
      "sim\n",
      "ram\n",
      "rom\n"
     ]
    }
   ],
   "source": [
    "for column in dmx_df.columns:\n",
    "    print(column)"
   ]
  },
  {
   "cell_type": "code",
   "execution_count": 12,
   "metadata": {},
   "outputs": [],
   "source": [
    "dmx_df = dmx_df.drop_duplicates()"
   ]
  },
  {
   "cell_type": "code",
   "execution_count": 13,
   "metadata": {},
   "outputs": [],
   "source": [
    "dmx_df.to_csv('../clean_data/dienmayxanh.csv', index=False)"
   ]
  }
 ],
 "metadata": {
  "kernelspec": {
   "display_name": "Python 3.9.10 64-bit",
   "language": "python",
   "name": "python3"
  },
  "language_info": {
   "codemirror_mode": {
    "name": "ipython",
    "version": 3
   },
   "file_extension": ".py",
   "mimetype": "text/x-python",
   "name": "python",
   "nbconvert_exporter": "python",
   "pygments_lexer": "ipython3",
   "version": "3.9.10"
  },
  "orig_nbformat": 4,
  "vscode": {
   "interpreter": {
    "hash": "46cbce0cc1b91bd412f5f59393cf4a56ecc421974209d990c21917623ca76b21"
   }
  }
 },
 "nbformat": 4,
 "nbformat_minor": 2
}
